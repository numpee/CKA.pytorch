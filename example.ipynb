{
 "cells": [
  {
   "cell_type": "code",
   "execution_count": 1,
   "id": "a12e75d5",
   "metadata": {},
   "outputs": [],
   "source": [
    "import torch\n",
    "from torch.utils.data import DataLoader\n",
    "from torchvision.datasets import CIFAR10\n",
    "from torchvision.transforms import Compose, ToTensor, Normalize\n",
    "from torchvision.models import resnet18\n",
    "from tqdm.autonotebook import tqdm\n",
    "from copy import deepcopy"
   ]
  },
  {
   "cell_type": "markdown",
   "id": "1bb2e232",
   "metadata": {},
   "source": [
    "## Setup DataLoader and Models \n",
    "\n",
    "An important detail is that although we are using the Validation set for `CIFAR10`, we **shuffle** and drop the last batch. This is to ensure that 1) the batches of each epoch are mixed, and 2) each iteration has the same batch size."
   ]
  },
  {
   "cell_type": "code",
   "execution_count": 2,
   "id": "47f97572",
   "metadata": {},
   "outputs": [
    {
     "name": "stdout",
     "output_type": "stream",
     "text": [
      "Files already downloaded and verified\n"
     ]
    }
   ],
   "source": [
    "transforms = Compose([ToTensor(), \n",
    "                      Normalize(mean=[0.485, 0.456, 0.406], std=[0.229, 0.224, 0.225])])\n",
    "\n",
    "dataset = CIFAR10(root='./', train=False, download=True, transform=transforms)\n",
    "dataloader = DataLoader(dataset, batch_size=256, shuffle=True, drop_last=True, num_workers=4, pin_memory=True)"
   ]
  },
  {
   "cell_type": "code",
   "execution_count": 3,
   "id": "48229bb6",
   "metadata": {},
   "outputs": [
    {
     "name": "stdout",
     "output_type": "stream",
     "text": [
      "Dummy models created\n"
     ]
    }
   ],
   "source": [
    "model1 = resnet18(pretrained=True).cuda()\n",
    "model1.eval()\n",
    "model2 = deepcopy(model1)\n",
    "model2.eval()\n",
    "print('Dummy models created')"
   ]
  },
  {
   "cell_type": "markdown",
   "id": "7f59e737",
   "metadata": {},
   "source": [
    "## Compute CKA "
   ]
  },
  {
   "cell_type": "code",
   "execution_count": 4,
   "id": "5fed41fb",
   "metadata": {},
   "outputs": [],
   "source": [
    "from cka import CKACalculator"
   ]
  },
  {
   "cell_type": "markdown",
   "id": "926f66b6",
   "metadata": {},
   "source": [
    "### Basic Usage \n",
    "\n",
    "Initializing the `CKACalculator` object will add forward hooks to both `model1` and `model2`. \n",
    "The default modules that are hooked are: `Bottleneck`, `BasicBlock`, `Conv2d`, `AdaptiveAvgPool2d`, `MaxPool2d`, and all instances of `BatchNorm`. \n",
    "Note that `Bottleneck` and `BasicBlock` are from the `torchvision` implementation, and will not add hooks to any custom implementations of `Bottleneck/BasicBlock`.\n",
    "\n",
    "For ResNet18, a total of 50 hooks are added.\n",
    "\n",
    "By default, the intermediate features are flattened with `flatten_hook_fn` and 10 epochs are run."
   ]
  },
  {
   "cell_type": "code",
   "execution_count": 5,
   "id": "d2212ba3",
   "metadata": {},
   "outputs": [
    {
     "name": "stdout",
     "output_type": "stream",
     "text": [
      "No hook function provided. Using flatten_hook_fn.\n",
      "50 Hooks registered. Total hooks: 50\n",
      "No hook function provided. Using flatten_hook_fn.\n",
      "50 Hooks registered. Total hooks: 50\n"
     ]
    }
   ],
   "source": [
    "calculator = CKACalculator(model1=model1, model2=model2, dataloader=dataloader)"
   ]
  },
  {
   "cell_type": "markdown",
   "id": "6282ebb3",
   "metadata": {},
   "source": [
    "Now we can calculate the CKA matrix "
   ]
  },
  {
   "cell_type": "code",
   "execution_count": 6,
   "id": "e9525f51",
   "metadata": {
    "scrolled": false
   },
   "outputs": [
    {
     "data": {
      "application/vnd.jupyter.widget-view+json": {
       "model_id": "f2799b606e9248fca8f378a5f05633f8",
       "version_major": 2,
       "version_minor": 0
      },
      "text/plain": [
       "Epoch 0:   0%|          | 0/39 [00:00<?, ?it/s]"
      ]
     },
     "metadata": {},
     "output_type": "display_data"
    },
    {
     "data": {
      "application/vnd.jupyter.widget-view+json": {
       "model_id": "60ce804cca4f49518bc3d8ddafdd9113",
       "version_major": 2,
       "version_minor": 0
      },
      "text/plain": [
       "Epoch 1:   0%|          | 0/39 [00:00<?, ?it/s]"
      ]
     },
     "metadata": {},
     "output_type": "display_data"
    },
    {
     "data": {
      "application/vnd.jupyter.widget-view+json": {
       "model_id": "65ef31cacd8e4554848d26b5d24b61fe",
       "version_major": 2,
       "version_minor": 0
      },
      "text/plain": [
       "Epoch 2:   0%|          | 0/39 [00:00<?, ?it/s]"
      ]
     },
     "metadata": {},
     "output_type": "display_data"
    },
    {
     "data": {
      "application/vnd.jupyter.widget-view+json": {
       "model_id": "450e5ff9bdea44b9b722221f20d0f0c9",
       "version_major": 2,
       "version_minor": 0
      },
      "text/plain": [
       "Epoch 3:   0%|          | 0/39 [00:00<?, ?it/s]"
      ]
     },
     "metadata": {},
     "output_type": "display_data"
    },
    {
     "data": {
      "application/vnd.jupyter.widget-view+json": {
       "model_id": "5f28bdcb78fe4a9a93ac9039885348e6",
       "version_major": 2,
       "version_minor": 0
      },
      "text/plain": [
       "Epoch 4:   0%|          | 0/39 [00:00<?, ?it/s]"
      ]
     },
     "metadata": {},
     "output_type": "display_data"
    },
    {
     "data": {
      "application/vnd.jupyter.widget-view+json": {
       "model_id": "587ac1386a9848789f5aa5b6fa54721e",
       "version_major": 2,
       "version_minor": 0
      },
      "text/plain": [
       "Epoch 5:   0%|          | 0/39 [00:00<?, ?it/s]"
      ]
     },
     "metadata": {},
     "output_type": "display_data"
    },
    {
     "data": {
      "application/vnd.jupyter.widget-view+json": {
       "model_id": "1e3f257f6c1c4da7874ad8b98a7d4404",
       "version_major": 2,
       "version_minor": 0
      },
      "text/plain": [
       "Epoch 6:   0%|          | 0/39 [00:00<?, ?it/s]"
      ]
     },
     "metadata": {},
     "output_type": "display_data"
    },
    {
     "data": {
      "application/vnd.jupyter.widget-view+json": {
       "model_id": "0384f3030fb048bf9bff23a16da18fe5",
       "version_major": 2,
       "version_minor": 0
      },
      "text/plain": [
       "Epoch 7:   0%|          | 0/39 [00:00<?, ?it/s]"
      ]
     },
     "metadata": {},
     "output_type": "display_data"
    },
    {
     "data": {
      "application/vnd.jupyter.widget-view+json": {
       "model_id": "fec3f2bf2ff2486a8329308e4cf56307",
       "version_major": 2,
       "version_minor": 0
      },
      "text/plain": [
       "Epoch 8:   0%|          | 0/39 [00:00<?, ?it/s]"
      ]
     },
     "metadata": {},
     "output_type": "display_data"
    },
    {
     "data": {
      "application/vnd.jupyter.widget-view+json": {
       "model_id": "f2f2d8bf062b42eea94b6adfcbc1fa12",
       "version_major": 2,
       "version_minor": 0
      },
      "text/plain": [
       "Epoch 9:   0%|          | 0/39 [00:00<?, ?it/s]"
      ]
     },
     "metadata": {},
     "output_type": "display_data"
    },
    {
     "name": "stdout",
     "output_type": "stream",
     "text": [
      "CKA output size: torch.Size([50, 50])\n"
     ]
    }
   ],
   "source": [
    "cka_output = calculator.calculate_cka_matrix()\n",
    "print(f\"CKA output size: {cka_output.size()}\")"
   ]
  },
  {
   "cell_type": "markdown",
   "id": "75f4aedb",
   "metadata": {},
   "source": [
    "#### Visualize the output\n",
    "\n",
    "Note that the returned matrix has its origin at the top left. In most papers, the CKA matrix is visualized with its origin at the bottom left. Thus, we may flip the matrix first before visualization; however, this example chooses not to."
   ]
  },
  {
   "cell_type": "code",
   "execution_count": 7,
   "id": "2ae04fc9",
   "metadata": {},
   "outputs": [],
   "source": [
    "import matplotlib.pyplot as plt\n",
    "plt.rcParams['figure.figsize'] = (7, 7)"
   ]
  },
  {
   "cell_type": "code",
   "execution_count": 8,
   "id": "1c7952cd",
   "metadata": {},
   "outputs": [
    {
     "data": {
      "text/plain": [
       "<matplotlib.image.AxesImage at 0x7fcdc0045130>"
      ]
     },
     "execution_count": 8,
     "metadata": {},
     "output_type": "execute_result"
    },
    {
     "data": {
      "image/png": "[encoded data removed]",
      "text/plain": [
       "<Figure size 504x504 with 1 Axes>"
      ]
     },
     "metadata": {
      "needs_background": "light"
     },
     "output_type": "display_data"
    }
   ],
   "source": [
    "plt.imshow(cka_output.cpu().numpy(), cmap='inferno')"
   ]
  },
  {
   "cell_type": "markdown",
   "id": "e8e6cab2",
   "metadata": {},
   "source": [
    "### Advanced Usage \n",
    "\n",
    "We can customize other parameters of the `CKACalculator`. \n",
    "Most importantly, we can select which modules to hook. \n",
    "\n",
    "Before instantiating a new instance of `CKACalculator` on, make sure to first call the `reset` method. \n",
    "This clears all hooks registered in the models."
   ]
  },
  {
   "cell_type": "code",
   "execution_count": 9,
   "id": "fe4a1711",
   "metadata": {},
   "outputs": [
    {
     "name": "stdout",
     "output_type": "stream",
     "text": [
      "50 handles removed.\n",
      "50 handles removed.\n"
     ]
    }
   ],
   "source": [
    "# Reset calculator to clear hooks\n",
    "calculator.reset()\n",
    "torch.cuda.empty_cache()"
   ]
  },
  {
   "cell_type": "code",
   "execution_count": 10,
   "id": "ff5c78e6",
   "metadata": {},
   "outputs": [],
   "source": [
    "import torch.nn as nn"
   ]
  },
  {
   "cell_type": "markdown",
   "id": "f168ff41",
   "metadata": {},
   "source": [
    "Let's consider outputs of `Conv2d` and `BatchNorm2d` only. This will create 40 hooks.\n",
    "\n",
    "For custom layers, add the custom modules in the same manner as shown below."
   ]
  },
  {
   "cell_type": "code",
   "execution_count": 11,
   "id": "9e768045",
   "metadata": {},
   "outputs": [],
   "source": [
    "layers = (nn.Conv2d, nn.BatchNorm2d)"
   ]
  },
  {
   "cell_type": "code",
   "execution_count": 12,
   "id": "fd75a7d6",
   "metadata": {},
   "outputs": [
    {
     "name": "stdout",
     "output_type": "stream",
     "text": [
      "No hook function provided. Using flatten_hook_fn.\n",
      "40 Hooks registered. Total hooks: 40\n",
      "No hook function provided. Using flatten_hook_fn.\n",
      "40 Hooks registered. Total hooks: 40\n"
     ]
    }
   ],
   "source": [
    "calculator = CKACalculator(model1=model1, model2=model2, dataloader=dataloader, hook_layer_types=layers)"
   ]
  },
  {
   "cell_type": "code",
   "execution_count": 13,
   "id": "d27ee2fb",
   "metadata": {},
   "outputs": [
    {
     "data": {
      "application/vnd.jupyter.widget-view+json": {
       "model_id": "b70e3f403590421491fc7f829567f9e3",
       "version_major": 2,
       "version_minor": 0
      },
      "text/plain": [
       "Epoch 0:   0%|          | 0/39 [00:00<?, ?it/s]"
      ]
     },
     "metadata": {},
     "output_type": "display_data"
    },
    {
     "data": {
      "application/vnd.jupyter.widget-view+json": {
       "model_id": "efbfb9df8ff94ea5a86b63f82c3cf4d9",
       "version_major": 2,
       "version_minor": 0
      },
      "text/plain": [
       "Epoch 1:   0%|          | 0/39 [00:00<?, ?it/s]"
      ]
     },
     "metadata": {},
     "output_type": "display_data"
    },
    {
     "data": {
      "application/vnd.jupyter.widget-view+json": {
       "model_id": "96654df43385458f955ec4c9d0d5232b",
       "version_major": 2,
       "version_minor": 0
      },
      "text/plain": [
       "Epoch 2:   0%|          | 0/39 [00:00<?, ?it/s]"
      ]
     },
     "metadata": {},
     "output_type": "display_data"
    },
    {
     "data": {
      "application/vnd.jupyter.widget-view+json": {
       "model_id": "9e6dd64492ac41c68f9d54deb5771d8c",
       "version_major": 2,
       "version_minor": 0
      },
      "text/plain": [
       "Epoch 3:   0%|          | 0/39 [00:00<?, ?it/s]"
      ]
     },
     "metadata": {},
     "output_type": "display_data"
    },
    {
     "data": {
      "application/vnd.jupyter.widget-view+json": {
       "model_id": "27775214034e4a988c1d625e476dedcf",
       "version_major": 2,
       "version_minor": 0
      },
      "text/plain": [
       "Epoch 4:   0%|          | 0/39 [00:00<?, ?it/s]"
      ]
     },
     "metadata": {},
     "output_type": "display_data"
    },
    {
     "data": {
      "application/vnd.jupyter.widget-view+json": {
       "model_id": "dc962d2d294e45a5858dc9c6dae7a244",
       "version_major": 2,
       "version_minor": 0
      },
      "text/plain": [
       "Epoch 5:   0%|          | 0/39 [00:00<?, ?it/s]"
      ]
     },
     "metadata": {},
     "output_type": "display_data"
    },
    {
     "data": {
      "application/vnd.jupyter.widget-view+json": {
       "model_id": "bb5baba5e69b4f43ba986e72485f4e4a",
       "version_major": 2,
       "version_minor": 0
      },
      "text/plain": [
       "Epoch 6:   0%|          | 0/39 [00:00<?, ?it/s]"
      ]
     },
     "metadata": {},
     "output_type": "display_data"
    },
    {
     "data": {
      "application/vnd.jupyter.widget-view+json": {
       "model_id": "42b62b25a76d4c829c402c17e5517a66",
       "version_major": 2,
       "version_minor": 0
      },
      "text/plain": [
       "Epoch 7:   0%|          | 0/39 [00:00<?, ?it/s]"
      ]
     },
     "metadata": {},
     "output_type": "display_data"
    },
    {
     "data": {
      "application/vnd.jupyter.widget-view+json": {
       "model_id": "16f8dfdba9794d4ca2bedc6a19f1bc48",
       "version_major": 2,
       "version_minor": 0
      },
      "text/plain": [
       "Epoch 8:   0%|          | 0/39 [00:00<?, ?it/s]"
      ]
     },
     "metadata": {},
     "output_type": "display_data"
    },
    {
     "data": {
      "application/vnd.jupyter.widget-view+json": {
       "model_id": "b23c62c491424afa90e488ba84099d3d",
       "version_major": 2,
       "version_minor": 0
      },
      "text/plain": [
       "Epoch 9:   0%|          | 0/39 [00:00<?, ?it/s]"
      ]
     },
     "metadata": {},
     "output_type": "display_data"
    }
   ],
   "source": [
    "cka_output = calculator.calculate_cka_matrix()"
   ]
  },
  {
   "cell_type": "markdown",
   "id": "fe47c21a",
   "metadata": {},
   "source": [
    "#### Visualize output "
   ]
  },
  {
   "cell_type": "code",
   "execution_count": 14,
   "id": "ff47422c",
   "metadata": {},
   "outputs": [
    {
     "data": {
      "text/plain": [
       "<matplotlib.image.AxesImage at 0x7fcda46cfd60>"
      ]
     },
     "execution_count": 14,
     "metadata": {},
     "output_type": "execute_result"
    },
    {
     "data": {
      "image/png": "[encoded data removed]",
      "text/plain": [
       "<Figure size 504x504 with 1 Axes>"
      ]
     },
     "metadata": {
      "needs_background": "light"
     },
     "output_type": "display_data"
    }
   ],
   "source": [
    "plt.imshow(cka_output.cpu().numpy(), cmap='inferno')"
   ]
  },
  {
   "cell_type": "markdown",
   "id": "afaa68d2",
   "metadata": {},
   "source": [
    "#### Extract module names "
   ]
  },
  {
   "cell_type": "code",
   "execution_count": 15,
   "id": "b13097c6",
   "metadata": {},
   "outputs": [
    {
     "name": "stdout",
     "output_type": "stream",
     "text": [
      "Layer 0: \tconv1\n",
      "Layer 1: \tbn1\n",
      "Layer 2: \tlayer1.0.conv1\n",
      "Layer 3: \tlayer1.0.bn1\n",
      "Layer 4: \tlayer1.0.conv2\n",
      "Layer 5: \tlayer1.0.bn2\n",
      "Layer 6: \tlayer1.1.conv1\n",
      "Layer 7: \tlayer1.1.bn1\n",
      "Layer 8: \tlayer1.1.conv2\n",
      "Layer 9: \tlayer1.1.bn2\n",
      "Layer 10: \tlayer2.0.conv1\n",
      "Layer 11: \tlayer2.0.bn1\n",
      "Layer 12: \tlayer2.0.conv2\n",
      "Layer 13: \tlayer2.0.bn2\n",
      "Layer 14: \tlayer2.0.downsample.0\n",
      "Layer 15: \tlayer2.0.downsample.1\n",
      "Layer 16: \tlayer2.1.conv1\n",
      "Layer 17: \tlayer2.1.bn1\n",
      "Layer 18: \tlayer2.1.conv2\n",
      "Layer 19: \tlayer2.1.bn2\n",
      "Layer 20: \tlayer3.0.conv1\n",
      "Layer 21: \tlayer3.0.bn1\n",
      "Layer 22: \tlayer3.0.conv2\n",
      "Layer 23: \tlayer3.0.bn2\n",
      "Layer 24: \tlayer3.0.downsample.0\n",
      "Layer 25: \tlayer3.0.downsample.1\n",
      "Layer 26: \tlayer3.1.conv1\n",
      "Layer 27: \tlayer3.1.bn1\n",
      "Layer 28: \tlayer3.1.conv2\n",
      "Layer 29: \tlayer3.1.bn2\n",
      "Layer 30: \tlayer4.0.conv1\n",
      "Layer 31: \tlayer4.0.bn1\n",
      "Layer 32: \tlayer4.0.conv2\n",
      "Layer 33: \tlayer4.0.bn2\n",
      "Layer 34: \tlayer4.0.downsample.0\n",
      "Layer 35: \tlayer4.0.downsample.1\n",
      "Layer 36: \tlayer4.1.conv1\n",
      "Layer 37: \tlayer4.1.bn1\n",
      "Layer 38: \tlayer4.1.conv2\n",
      "Layer 39: \tlayer4.1.bn2\n"
     ]
    }
   ],
   "source": [
    "for i, name in enumerate(calculator.module_names_X):\n",
    "    print(f\"Layer {i}: \\t{name}\")"
   ]
  }
 ],
 "metadata": {
  "kernelspec": {
   "display_name": "Python 3",
   "language": "python",
   "name": "python3"
  },
  "language_info": {
   "codemirror_mode": {
    "name": "ipython",
    "version": 3
   },
   "file_extension": ".py",
   "mimetype": "text/x-python",
   "name": "python",
   "nbconvert_exporter": "python",
   "pygments_lexer": "ipython3",
   "version": "3.9.9"
  }
 },
 "nbformat": 4,
 "nbformat_minor": 5
}
